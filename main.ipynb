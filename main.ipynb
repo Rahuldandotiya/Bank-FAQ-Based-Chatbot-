{
 "cells": [
  {
   "cell_type": "code",
   "execution_count": 1,
   "metadata": {},
   "outputs": [
    {
     "name": "stderr",
     "output_type": "stream",
     "text": [
      "C:\\Users\\Abc\\Anaconda3\\lib\\site-packages\\sklearn\\ensemble\\weight_boosting.py:29: DeprecationWarning: numpy.core.umath_tests is an internal NumPy module and should not be imported. It will be removed in a future NumPy release.\n",
      "  from numpy.core.umath_tests import inner1d\n"
     ]
    }
   ],
   "source": [
    "import pandas as pd\n",
    "from sklearn.svm import SVC\n",
    "from sklearn.model_selection import train_test_split as tts\n",
    "from sklearn.feature_extraction.text import TfidfVectorizer\n",
    "from sklearn.preprocessing import LabelEncoder as LE\n",
    "from sklearn.metrics.pairwise import cosine_similarity\n",
    "import random\n",
    "from sklearn.ensemble import AdaBoostClassifier\n",
    "from sklearn.tree import DecisionTreeClassifier\n",
    "import nltk\n",
    "from nltk.stem.lancaster import LancasterStemmer\n",
    "import warnings\n",
    "warnings.filterwarnings(\"ignore\", category=DeprecationWarning)\n",
    "stemmer = LancasterStemmer()\n",
    "from flask import Flask, render_template, request"
   ]
  },
  {
   "cell_type": "code",
   "execution_count": 2,
   "metadata": {},
   "outputs": [],
   "source": [
    "def cleanup(sentence):\n",
    "    word_tok = nltk.word_tokenize(sentence)\n",
    "    stemmed_words = [stemmer.stem(w) for w in word_tok]\n",
    "\n",
    "    return ' '.join(stemmed_words)"
   ]
  },
  {
   "cell_type": "code",
   "execution_count": 3,
   "metadata": {},
   "outputs": [
    {
     "name": "stdout",
     "output_type": "stream",
     "text": [
      "Adaboost: 0.8600451467268623\n"
     ]
    }
   ],
   "source": [
    "le = LE()\n",
    "tfv = TfidfVectorizer(min_df=1, stop_words='english')\n",
    "data = pd.read_csv('BankFAQs.csv')\n",
    "questions = data['Question'].values\n",
    "X = []\n",
    "for question in questions:\n",
    "    X.append(cleanup(question))\n",
    "tfv.fit(X)\n",
    "le.fit(data['Class'])\n",
    "X = tfv.transform(X)\n",
    "y = le.transform(data['Class'])\n",
    "trainx, testx, trainy, testy = tts(X, y, test_size=.25, random_state=42)\n",
    "model = AdaBoostClassifier(\n",
    "    DecisionTreeClassifier(max_depth=15),\n",
    "    n_estimators=2000\n",
    ")\n",
    "model.fit(trainx, trainy)\n",
    "print(\"Adaboost:\", model.score(testx, testy))\n",
    "    "
   ]
  },
  {
   "cell_type": "code",
   "execution_count": 4,
   "metadata": {},
   "outputs": [],
   "source": [
    "def chat(usr):\n",
    "    if usr.lower() == 'yes':\n",
    "        #print(\"Bot: Yes!\")\n",
    "        return \"YES!\"\n",
    "    if usr.lower() == 'no':\n",
    "        #print(\"Bot: No?\")\n",
    "        return \"No?\"\n",
    "\n",
    "    t_usr = tfv.transform([cleanup(usr.strip().lower())])\n",
    "    class_ = le.inverse_transform(model.predict(t_usr)[0])\n",
    "    questionset = data[data['Class']==class_]\n",
    "    cos_sims = []\n",
    "    for question in questionset['Question']:\n",
    "        sims = cosine_similarity(tfv.transform([question]), t_usr)\n",
    "        cos_sims.append(sims)\n",
    "        \n",
    "    ind = cos_sims.index(max(cos_sims))\n",
    "\n",
    "    return data['Answer'][questionset.index[ind]]"
   ]
  },
  {
   "cell_type": "code",
   "execution_count": 5,
   "metadata": {},
   "outputs": [
    {
     "name": "stdout",
     "output_type": "stream",
     "text": [
      "PRESS Q to QUIT\n",
      "\n",
      "\n",
      "Bot: Hi, Welcome to our bank!\n",
      "You: Hi\n",
      "Bot: Hi how may I help you?\n",
      "You: Q\n",
      "Bot: It was good to help you.\n"
     ]
    }
   ],
   "source": [
    "print(\"PRESS Q to QUIT\")\n",
    "print()\n",
    "print()\n",
    "print(\"Bot: Hi, Welcome to our bank!\")\n",
    "while True:\n",
    "    usr = input(\"You: \")\n",
    "    if(usr=='Q'):\n",
    "        print(\"Bot: It was good to help you.\")\n",
    "        break\n",
    "    else:\n",
    "        print(\"Bot:\",chat(usr))"
   ]
  },
  {
   "cell_type": "code",
   "execution_count": 6,
   "metadata": {},
   "outputs": [],
   "source": [
    "app = Flask(__name__)\n",
    "@app.route(\"/\")\n",
    "def home():\n",
    "    return render_template(\"home.html\")"
   ]
  },
  {
   "cell_type": "code",
   "execution_count": 7,
   "metadata": {},
   "outputs": [],
   "source": [
    "@app.route(\"/get\")\n",
    "def get_bot_response():\n",
    "    userText = request.args.get('msg')\n",
    "    return str(chat(userText))"
   ]
  },
  {
   "cell_type": "code",
   "execution_count": 8,
   "metadata": {},
   "outputs": [
    {
     "name": "stderr",
     "output_type": "stream",
     "text": [
      " * Running on http://127.0.0.1:5000/ (Press CTRL+C to quit)\n",
      "127.0.0.1 - - [14/Nov/2019 00:55:58] \"\u001b[37mGET / HTTP/1.1\u001b[0m\" 200 -\n",
      "127.0.0.1 - - [14/Nov/2019 00:56:08] \"\u001b[37mGET /get?msg=Hi HTTP/1.1\u001b[0m\" 200 -\n",
      "127.0.0.1 - - [14/Nov/2019 00:56:24] \"\u001b[37mGET /get?msg=I%20want%20to%20open%20a%20back%20account HTTP/1.1\u001b[0m\" 200 -\n",
      "127.0.0.1 - - [14/Nov/2019 00:56:31] \"\u001b[37mGET / HTTP/1.1\u001b[0m\" 200 -\n",
      "127.0.0.1 - - [14/Nov/2019 00:56:37] \"\u001b[37mGET /get?msg=Hi HTTP/1.1\u001b[0m\" 200 -\n",
      "127.0.0.1 - - [14/Nov/2019 00:56:57] \"\u001b[37mGET /get?msg=I%20want%20to%20open%20a%20bank%20account HTTP/1.1\u001b[0m\" 200 -\n"
     ]
    }
   ],
   "source": [
    "if __name__ == \"__main__\":\n",
    "    app.run()"
   ]
  },
  {
   "cell_type": "code",
   "execution_count": null,
   "metadata": {},
   "outputs": [],
   "source": []
  }
 ],
 "metadata": {
  "kernelspec": {
   "display_name": "Python 3",
   "language": "python",
   "name": "python3"
  },
  "language_info": {
   "codemirror_mode": {
    "name": "ipython",
    "version": 3
   },
   "file_extension": ".py",
   "mimetype": "text/x-python",
   "name": "python",
   "nbconvert_exporter": "python",
   "pygments_lexer": "ipython3",
   "version": "3.6.4"
  }
 },
 "nbformat": 4,
 "nbformat_minor": 2
}
